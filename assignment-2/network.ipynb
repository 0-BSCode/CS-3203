{
 "cells": [
  {
   "cell_type": "code",
   "execution_count": 1,
   "metadata": {},
   "outputs": [],
   "source": [
    "import pandas as pd\n",
    "import plotly.graph_objects as go\n",
    "import networkx as nx\n",
    "import numpy as np"
   ]
  },
  {
   "cell_type": "code",
   "execution_count": 2,
   "metadata": {},
   "outputs": [],
   "source": [
    "# Load CSV file\n",
    "csv_file = \"networks_assignment.csv\"\n",
    "df = pd.read_csv(csv_file)\n"
   ]
  },
  {
   "cell_type": "code",
   "execution_count": 3,
   "metadata": {},
   "outputs": [],
   "source": [
    "# Extract node labels\n",
    "node_labels = df.columns[1:].tolist()  # Column headers as node names\n",
    "source_nodes = df.iloc[:, 0].tolist()  # First column as source nodes"
   ]
  },
  {
   "cell_type": "code",
   "execution_count": 4,
   "metadata": {},
   "outputs": [],
   "source": [
    "# Create a directed graph\n",
    "G = nx.DiGraph()\n",
    "\n",
    "# Add edges with weights\n",
    "for i, src in enumerate(source_nodes):\n",
    "    for j, dest in enumerate(node_labels):\n",
    "        weight = df.iloc[i, j + 1]  # Get weight from adjacency matrix\n",
    "        if weight > 0:  # Only add edges with nonzero weight\n",
    "            G.add_edge(src, dest, weight=weight)"
   ]
  },
  {
   "cell_type": "code",
   "execution_count": 5,
   "metadata": {},
   "outputs": [],
   "source": [
    "# Define node groups and colors\n",
    "blue_nodes = {'N', 'D', 'F', 'I', 'S'}\n",
    "green_nodes = {'BIH', 'GEO', 'ISR', 'MNE', 'SRB', 'CHE', 'TUR', 'UKR', 'GBR', 'AUS', 'HKG', 'USA'}\n",
    "yellow_nodes = {'AUT', 'BEL', 'BGR', 'HRV', 'CZE', 'EST', 'FRA', 'DEU', 'GRC', 'HUN', 'IRL', 'ITA', 'LVA', 'LUX', 'NLD', 'PRT', 'ROU', 'SVK', 'SVN', 'ESP'}\n",
    "node_colors = {}\n",
    "\n",
    "for node in G.nodes():\n",
    "    if node in blue_nodes:\n",
    "        node_colors[node] = 'blue'\n",
    "    elif node in green_nodes:\n",
    "        node_colors[node] = 'green'\n",
    "    elif node in yellow_nodes:\n",
    "        node_colors[node] = 'yellow'\n",
    "    else:\n",
    "        node_colors[node] = 'red'  # Default color"
   ]
  },
  {
   "cell_type": "code",
   "execution_count": 6,
   "metadata": {},
   "outputs": [],
   "source": [
    "# Define a pentagon layout for (D, F, I, N, S)\n",
    "center_nodes = [\"D\", \"F\", \"I\", \"N\", \"S\"]\n",
    "NODES_NUM = len(center_nodes)\n",
    "RADIUS = 0.8\n",
    "\n",
    "# Compute pentagon positions\n",
    "pentagon_pos = {\n",
    "    center_nodes[i]: (\n",
    "        RADIUS * np.cos(2 * np.pi * i / NODES_NUM), \n",
    "        RADIUS * np.sin(2 * np.pi * i / NODES_NUM)\n",
    "    ) \n",
    "    for i in range(NODES_NUM)\n",
    "}"
   ]
  },
  {
   "cell_type": "code",
   "execution_count": 7,
   "metadata": {},
   "outputs": [],
   "source": [
    "# Compute positions for remaining nodes outside the pentagon\n",
    "remaining_nodes = set(G.nodes()) - set(center_nodes)\n",
    "pos = nx.spring_layout(G, seed=42)  # Compute positions for all nodes\n",
    "\n",
    "# Adjust positions of external nodes to be farther from center\n",
    "SCALE_FACTOR = 5\n",
    "for node in remaining_nodes:\n",
    "    pos[node] = (pos[node][0] * SCALE_FACTOR, pos[node][1] * SCALE_FACTOR)\n",
    "\n",
    "# Override pentagon node positions\n",
    "pos.update(pentagon_pos)"
   ]
  },
  {
   "cell_type": "code",
   "execution_count": 8,
   "metadata": {},
   "outputs": [],
   "source": [
    "# Create Plotly traces\n",
    "edge_x, edge_y, edge_weights = [], [], []\n",
    "for edge in G.edges(data=True):\n",
    "    x0, y0 = pos[edge[0]]\n",
    "    x1, y1 = pos[edge[1]]\n",
    "    edge_x.extend([x0, x1, None])  # None creates separate lines for each edge\n",
    "    edge_y.extend([y0, y1, None])\n",
    "    edge_weights.append(edge[2][\"weight\"])\n",
    "\n",
    "# Create the edge trace\n",
    "edge_trace = go.Scatter(\n",
    "    x=edge_x, y=edge_y,\n",
    "    line=dict(width=1, color=\"#aaa\"),\n",
    "    hoverinfo=\"text\",\n",
    "    text=[f\"Weight: {w}\" for w in edge_weights],\n",
    "    mode=\"lines\"\n",
    ")\n",
    "\n",
    "# Create the node trace\n",
    "node_x, node_y, node_color, node_text = [], [], [], []\n",
    "for node in G.nodes():\n",
    "    x, y = pos[node]\n",
    "    node_x.append(x)\n",
    "    node_y.append(y)\n",
    "    node_color.append(node_colors.get(node, 'red'))  # Default to red if missing\n",
    "    node_text.append(node)\n",
    "\n",
    "node_trace = go.Scatter(\n",
    "    x=node_x, y=node_y,\n",
    "    mode=\"markers+text\",\n",
    "    marker=dict(size=32, color=node_color),\n",
    "    text=node_text,\n",
    "    textfont=dict(size=12, color='black', family='Arial'),\n",
    "    textposition=\"middle center\",\n",
    "    hoverinfo=\"text\"\n",
    ")"
   ]
  },
  {
   "cell_type": "code",
   "execution_count": 9,
   "metadata": {},
   "outputs": [
    {
     "data": {
      "application/vnd.plotly.v1+json": {
       "config": {
        "plotlyServerURL": "https://plot.ly"
       },
       "data": [
        {
         "hoverinfo": "text",
         "line": {
          "color": "#aaa",
          "width": 1
         },
         "mode": "lines",
         "text": [
          "Weight: 3",
          "Weight: 3",
          "Weight: 1",
          "Weight: 3",
          "Weight: 1",
          "Weight: 1",
          "Weight: 1",
          "Weight: 2",
          "Weight: 1",
          "Weight: 2",
          "Weight: 2",
          "Weight: 1",
          "Weight: 2",
          "Weight: 1",
          "Weight: 2",
          "Weight: 1",
          "Weight: 1",
          "Weight: 2",
          "Weight: 1",
          "Weight: 1",
          "Weight: 1",
          "Weight: 2",
          "Weight: 1",
          "Weight: 1",
          "Weight: 1",
          "Weight: 1",
          "Weight: 1",
          "Weight: 1",
          "Weight: 1",
          "Weight: 1",
          "Weight: 1",
          "Weight: 1",
          "Weight: 2",
          "Weight: 1",
          "Weight: 1",
          "Weight: 1",
          "Weight: 1",
          "Weight: 2",
          "Weight: 1",
          "Weight: 2",
          "Weight: 5",
          "Weight: 4",
          "Weight: 3",
          "Weight: 3",
          "Weight: 2",
          "Weight: 2",
          "Weight: 2",
          "Weight: 2",
          "Weight: 2",
          "Weight: 2",
          "Weight: 2",
          "Weight: 2",
          "Weight: 2",
          "Weight: 3",
          "Weight: 2",
          "Weight: 2",
          "Weight: 2",
          "Weight: 2",
          "Weight: 2",
          "Weight: 2",
          "Weight: 2",
          "Weight: 4",
          "Weight: 2",
          "Weight: 2",
          "Weight: 2",
          "Weight: 2",
          "Weight: 2",
          "Weight: 2",
          "Weight: 2",
          "Weight: 3",
          "Weight: 1",
          "Weight: 1",
          "Weight: 1"
         ],
         "type": "scatter",
         "x": [
          0.8,
          -0.647213595499958,
          null,
          0.8,
          0.24721359549995797,
          null,
          0.8,
          -0.6472135954999579,
          null,
          0.8,
          0.2472135954999578,
          null,
          0.8,
          -3.113573725275004,
          null,
          0.8,
          4.760676491143235,
          null,
          0.8,
          -2.3440957248022154,
          null,
          0.8,
          -3.905781088476379,
          null,
          0.8,
          2.7234043570551574,
          null,
          -0.647213595499958,
          0.8,
          null,
          -0.647213595499958,
          0.24721359549995797,
          null,
          -0.647213595499958,
          -0.6472135954999579,
          null,
          -0.647213595499958,
          0.2472135954999578,
          null,
          -0.647213595499958,
          1.6930475470624848,
          null,
          -0.647213595499958,
          3.545235433684588,
          null,
          -0.647213595499958,
          4.760676491143235,
          null,
          -0.647213595499958,
          -2.3440957248022154,
          null,
          -0.647213595499958,
          -3.905781088476379,
          null,
          -0.647213595499958,
          0.6864390450826992,
          null,
          -0.647213595499958,
          2.7234043570551574,
          null,
          0.24721359549995797,
          -0.647213595499958,
          null,
          0.24721359549995797,
          0.8,
          null,
          0.24721359549995797,
          -0.6472135954999579,
          null,
          0.24721359549995797,
          0.2472135954999578,
          null,
          0.24721359549995797,
          2.33243789786428,
          null,
          0.24721359549995797,
          -2.8729041932738966,
          null,
          0.24721359549995797,
          -3.113573725275004,
          null,
          0.24721359549995797,
          1.6930475470624848,
          null,
          0.24721359549995797,
          -4.4614717313691905,
          null,
          0.24721359549995797,
          1.4178647676542617,
          null,
          0.24721359549995797,
          3.545235433684588,
          null,
          0.24721359549995797,
          -2.0343811212387903,
          null,
          0.24721359549995797,
          4.760676491143235,
          null,
          0.24721359549995797,
          4.466804642343033,
          null,
          0.24721359549995797,
          -1.3753992682950256,
          null,
          0.24721359549995797,
          4.454944085493656,
          null,
          0.24721359549995797,
          -4.524001499186018,
          null,
          0.24721359549995797,
          -2.3440957248022154,
          null,
          0.24721359549995797,
          -3.957236286434126,
          null,
          0.24721359549995797,
          -3.905781088476379,
          null,
          0.2472135954999578,
          -0.647213595499958,
          null,
          0.2472135954999578,
          0.8,
          null,
          0.2472135954999578,
          0.24721359549995797,
          null,
          0.2472135954999578,
          -0.6472135954999579,
          null,
          0.2472135954999578,
          3.958273878781824,
          null,
          0.2472135954999578,
          2.33243789786428,
          null,
          0.2472135954999578,
          0.4627510897581195,
          null,
          0.2472135954999578,
          4.999999999999999,
          null,
          0.2472135954999578,
          -2.8729041932738966,
          null,
          0.2472135954999578,
          3.7040013854327776,
          null,
          0.2472135954999578,
          2.6471504037727467,
          null,
          0.2472135954999578,
          -3.113573725275004,
          null,
          0.2472135954999578,
          -3.7579746207814195,
          null,
          0.2472135954999578,
          1.6930475470624848,
          null,
          0.2472135954999578,
          -4.4614717313691905,
          null,
          0.2472135954999578,
          -4.3264623306854,
          null,
          0.2472135954999578,
          1.4178647676542617,
          null,
          0.2472135954999578,
          -0.4739797985713655,
          null,
          0.2472135954999578,
          3.545235433684588,
          null,
          0.2472135954999578,
          4.9251629400783905,
          null,
          0.2472135954999578,
          -2.768744609880029,
          null,
          0.2472135954999578,
          4.760676491143235,
          null,
          0.2472135954999578,
          4.466804642343033,
          null,
          0.2472135954999578,
          -1.3753992682950256,
          null,
          0.2472135954999578,
          -1.0447702005743182,
          null,
          0.2472135954999578,
          -2.3440957248022154,
          null,
          0.2472135954999578,
          -3.957236286434126,
          null,
          0.2472135954999578,
          -0.1024304984551446,
          null,
          0.2472135954999578,
          4.2144754121815104,
          null,
          0.2472135954999578,
          -3.905781088476379,
          null,
          0.2472135954999578,
          0.6864390450826992,
          null,
          0.2472135954999578,
          -4.7317092483922005,
          null,
          0.2472135954999578,
          2.7234043570551574,
          null
         ],
         "y": [
          0,
          -0.47022820183397845,
          null,
          0,
          0.7608452130361228,
          null,
          0,
          0.4702282018339786,
          null,
          0,
          -0.760845213036123,
          null,
          0,
          4.125980878949076,
          null,
          0,
          -1.666058018352724,
          null,
          0,
          -4.1887431255526755,
          null,
          0,
          -0.9813291919950478,
          null,
          0,
          -3.5540231806089935,
          null,
          -0.47022820183397845,
          0,
          null,
          -0.47022820183397845,
          0.7608452130361228,
          null,
          -0.47022820183397845,
          0.4702282018339786,
          null,
          -0.47022820183397845,
          -0.760845213036123,
          null,
          -0.47022820183397845,
          4.3469601475107496,
          null,
          -0.47022820183397845,
          -3.1939176996142002,
          null,
          -0.47022820183397845,
          -1.666058018352724,
          null,
          -0.47022820183397845,
          -4.1887431255526755,
          null,
          -0.47022820183397845,
          -0.9813291919950478,
          null,
          -0.47022820183397845,
          4.307371376682348,
          null,
          -0.47022820183397845,
          -3.5540231806089935,
          null,
          0.7608452130361228,
          -0.47022820183397845,
          null,
          0.7608452130361228,
          0,
          null,
          0.7608452130361228,
          0.4702282018339786,
          null,
          0.7608452130361228,
          -0.760845213036123,
          null,
          0.7608452130361228,
          -4.298040080318303,
          null,
          0.7608452130361228,
          -3.372785408966253,
          null,
          0.7608452130361228,
          4.125980878949076,
          null,
          0.7608452130361228,
          4.3469601475107496,
          null,
          0.7608452130361228,
          0.37747283440472224,
          null,
          0.7608452130361228,
          -4.799285990572201,
          null,
          0.7608452130361228,
          -3.1939176996142002,
          null,
          0.7608452130361228,
          4.640160503935969,
          null,
          0.7608452130361228,
          -1.666058018352724,
          null,
          0.7608452130361228,
          2.8017318960560194,
          null,
          0.7608452130361228,
          -4.656437449842156,
          null,
          0.7608452130361228,
          1.2338161474303802,
          null,
          0.7608452130361228,
          -0.8527432479598268,
          null,
          0.7608452130361228,
          -4.1887431255526755,
          null,
          0.7608452130361228,
          3.140712771596495,
          null,
          0.7608452130361228,
          -0.9813291919950478,
          null,
          -0.760845213036123,
          -0.47022820183397845,
          null,
          -0.760845213036123,
          0,
          null,
          -0.760845213036123,
          0.7608452130361228,
          null,
          -0.760845213036123,
          0.4702282018339786,
          null,
          -0.760845213036123,
          -0.2821759699074036,
          null,
          -0.760845213036123,
          -4.298040080318303,
          null,
          -0.760845213036123,
          -4.697066725961948,
          null,
          -0.760845213036123,
          1.4725346111475148,
          null,
          -0.760845213036123,
          -3.372785408966253,
          null,
          -0.760845213036123,
          3.784189270426716,
          null,
          -0.760845213036123,
          4.200289059783486,
          null,
          -0.760845213036123,
          4.125980878949076,
          null,
          -0.760845213036123,
          -3.1124728641346926,
          null,
          -0.760845213036123,
          4.3469601475107496,
          null,
          -0.760845213036123,
          0.37747283440472224,
          null,
          -0.760845213036123,
          -2.1020603982031236,
          null,
          -0.760845213036123,
          -4.799285990572201,
          null,
          -0.760845213036123,
          -4.5221466536640635,
          null,
          -0.760845213036123,
          -3.1939176996142002,
          null,
          -0.760845213036123,
          -0.3748650217446787,
          null,
          -0.760845213036123,
          3.3279166441614256,
          null,
          -0.760845213036123,
          -1.666058018352724,
          null,
          -0.760845213036123,
          2.8017318960560194,
          null,
          -0.760845213036123,
          -4.656437449842156,
          null,
          -0.760845213036123,
          4.625681360807496,
          null,
          -0.760845213036123,
          -4.1887431255526755,
          null,
          -0.760845213036123,
          3.140712771596495,
          null,
          -0.760845213036123,
          4.973737436195674,
          null,
          -0.760845213036123,
          -2.6382448785881287,
          null,
          -0.760845213036123,
          -0.9813291919950478,
          null,
          -0.760845213036123,
          4.307371376682348,
          null,
          -0.760845213036123,
          1.1977540533105633,
          null,
          -0.760845213036123,
          -3.5540231806089935,
          null
         ]
        },
        {
         "hoverinfo": "text",
         "marker": {
          "color": [
           "blue",
           "blue",
           "blue",
           "blue",
           "blue",
           "yellow",
           "yellow",
           "yellow",
           "green",
           "red",
           "yellow",
           "yellow",
           "yellow",
           "yellow",
           "yellow",
           "yellow",
           "yellow",
           "yellow",
           "yellow",
           "yellow",
           "yellow",
           "green",
           "green",
           "yellow",
           "green",
           "yellow",
           "yellow",
           "yellow",
           "green",
           "yellow",
           "green",
           "yellow",
           "green",
           "green",
           "green",
           "green",
           "green"
          ],
          "size": 32
         },
         "mode": "markers+text",
         "text": [
          "D",
          "N",
          "F",
          "I",
          "S",
          "FRA",
          "NLD",
          "ESP",
          "GBR",
          "ASU",
          "BEL",
          "HRV",
          "DEU",
          "GRC",
          "IRL",
          "ITA",
          "LVA",
          "PRT",
          "ROU",
          "SVK",
          "SVN",
          "CHE",
          "AUS",
          "AUT",
          "BIH",
          "BGR",
          "CZE",
          "EST",
          "GEO",
          "HUN",
          "ISR",
          "LUX",
          "MNE",
          "SRB",
          "TUR",
          "UKR",
          "HKG"
         ],
         "textfont": {
          "color": "black",
          "family": "Arial",
          "size": 12
         },
         "textposition": "middle center",
         "type": "scatter",
         "x": [
          0.8,
          -0.647213595499958,
          0.24721359549995797,
          -0.6472135954999579,
          0.2472135954999578,
          -3.113573725275004,
          4.760676491143235,
          -2.3440957248022154,
          -3.905781088476379,
          2.7234043570551574,
          2.33243789786428,
          -2.8729041932738966,
          1.6930475470624848,
          -4.4614717313691905,
          1.4178647676542617,
          3.545235433684588,
          -2.0343811212387903,
          4.466804642343033,
          -1.3753992682950256,
          4.454944085493656,
          -4.524001499186018,
          -3.957236286434126,
          0.6864390450826992,
          3.958273878781824,
          0.4627510897581195,
          4.999999999999999,
          3.7040013854327776,
          2.6471504037727467,
          -3.7579746207814195,
          -4.3264623306854,
          -0.4739797985713655,
          4.9251629400783905,
          -2.768744609880029,
          -1.0447702005743182,
          -0.1024304984551446,
          4.2144754121815104,
          -4.7317092483922005
         ],
         "y": [
          0,
          -0.47022820183397845,
          0.7608452130361228,
          0.4702282018339786,
          -0.760845213036123,
          4.125980878949076,
          -1.666058018352724,
          -4.1887431255526755,
          -0.9813291919950478,
          -3.5540231806089935,
          -4.298040080318303,
          -3.372785408966253,
          4.3469601475107496,
          0.37747283440472224,
          -4.799285990572201,
          -3.1939176996142002,
          4.640160503935969,
          2.8017318960560194,
          -4.656437449842156,
          1.2338161474303802,
          -0.8527432479598268,
          3.140712771596495,
          4.307371376682348,
          -0.2821759699074036,
          -4.697066725961948,
          1.4725346111475148,
          3.784189270426716,
          4.200289059783486,
          -3.1124728641346926,
          -2.1020603982031236,
          -4.5221466536640635,
          -0.3748650217446787,
          3.3279166441614256,
          4.625681360807496,
          4.973737436195674,
          -2.6382448785881287,
          1.1977540533105633
         ]
        }
       ],
       "layout": {
        "hovermode": "closest",
        "margin": {
         "b": 10,
         "l": 10,
         "r": 10,
         "t": 40
        },
        "showlegend": false,
        "template": {
         "data": {
          "bar": [
           {
            "error_x": {
             "color": "#2a3f5f"
            },
            "error_y": {
             "color": "#2a3f5f"
            },
            "marker": {
             "line": {
              "color": "#E5ECF6",
              "width": 0.5
             },
             "pattern": {
              "fillmode": "overlay",
              "size": 10,
              "solidity": 0.2
             }
            },
            "type": "bar"
           }
          ],
          "barpolar": [
           {
            "marker": {
             "line": {
              "color": "#E5ECF6",
              "width": 0.5
             },
             "pattern": {
              "fillmode": "overlay",
              "size": 10,
              "solidity": 0.2
             }
            },
            "type": "barpolar"
           }
          ],
          "carpet": [
           {
            "aaxis": {
             "endlinecolor": "#2a3f5f",
             "gridcolor": "white",
             "linecolor": "white",
             "minorgridcolor": "white",
             "startlinecolor": "#2a3f5f"
            },
            "baxis": {
             "endlinecolor": "#2a3f5f",
             "gridcolor": "white",
             "linecolor": "white",
             "minorgridcolor": "white",
             "startlinecolor": "#2a3f5f"
            },
            "type": "carpet"
           }
          ],
          "choropleth": [
           {
            "colorbar": {
             "outlinewidth": 0,
             "ticks": ""
            },
            "type": "choropleth"
           }
          ],
          "contour": [
           {
            "colorbar": {
             "outlinewidth": 0,
             "ticks": ""
            },
            "colorscale": [
             [
              0,
              "#0d0887"
             ],
             [
              0.1111111111111111,
              "#46039f"
             ],
             [
              0.2222222222222222,
              "#7201a8"
             ],
             [
              0.3333333333333333,
              "#9c179e"
             ],
             [
              0.4444444444444444,
              "#bd3786"
             ],
             [
              0.5555555555555556,
              "#d8576b"
             ],
             [
              0.6666666666666666,
              "#ed7953"
             ],
             [
              0.7777777777777778,
              "#fb9f3a"
             ],
             [
              0.8888888888888888,
              "#fdca26"
             ],
             [
              1,
              "#f0f921"
             ]
            ],
            "type": "contour"
           }
          ],
          "contourcarpet": [
           {
            "colorbar": {
             "outlinewidth": 0,
             "ticks": ""
            },
            "type": "contourcarpet"
           }
          ],
          "heatmap": [
           {
            "colorbar": {
             "outlinewidth": 0,
             "ticks": ""
            },
            "colorscale": [
             [
              0,
              "#0d0887"
             ],
             [
              0.1111111111111111,
              "#46039f"
             ],
             [
              0.2222222222222222,
              "#7201a8"
             ],
             [
              0.3333333333333333,
              "#9c179e"
             ],
             [
              0.4444444444444444,
              "#bd3786"
             ],
             [
              0.5555555555555556,
              "#d8576b"
             ],
             [
              0.6666666666666666,
              "#ed7953"
             ],
             [
              0.7777777777777778,
              "#fb9f3a"
             ],
             [
              0.8888888888888888,
              "#fdca26"
             ],
             [
              1,
              "#f0f921"
             ]
            ],
            "type": "heatmap"
           }
          ],
          "heatmapgl": [
           {
            "colorbar": {
             "outlinewidth": 0,
             "ticks": ""
            },
            "colorscale": [
             [
              0,
              "#0d0887"
             ],
             [
              0.1111111111111111,
              "#46039f"
             ],
             [
              0.2222222222222222,
              "#7201a8"
             ],
             [
              0.3333333333333333,
              "#9c179e"
             ],
             [
              0.4444444444444444,
              "#bd3786"
             ],
             [
              0.5555555555555556,
              "#d8576b"
             ],
             [
              0.6666666666666666,
              "#ed7953"
             ],
             [
              0.7777777777777778,
              "#fb9f3a"
             ],
             [
              0.8888888888888888,
              "#fdca26"
             ],
             [
              1,
              "#f0f921"
             ]
            ],
            "type": "heatmapgl"
           }
          ],
          "histogram": [
           {
            "marker": {
             "pattern": {
              "fillmode": "overlay",
              "size": 10,
              "solidity": 0.2
             }
            },
            "type": "histogram"
           }
          ],
          "histogram2d": [
           {
            "colorbar": {
             "outlinewidth": 0,
             "ticks": ""
            },
            "colorscale": [
             [
              0,
              "#0d0887"
             ],
             [
              0.1111111111111111,
              "#46039f"
             ],
             [
              0.2222222222222222,
              "#7201a8"
             ],
             [
              0.3333333333333333,
              "#9c179e"
             ],
             [
              0.4444444444444444,
              "#bd3786"
             ],
             [
              0.5555555555555556,
              "#d8576b"
             ],
             [
              0.6666666666666666,
              "#ed7953"
             ],
             [
              0.7777777777777778,
              "#fb9f3a"
             ],
             [
              0.8888888888888888,
              "#fdca26"
             ],
             [
              1,
              "#f0f921"
             ]
            ],
            "type": "histogram2d"
           }
          ],
          "histogram2dcontour": [
           {
            "colorbar": {
             "outlinewidth": 0,
             "ticks": ""
            },
            "colorscale": [
             [
              0,
              "#0d0887"
             ],
             [
              0.1111111111111111,
              "#46039f"
             ],
             [
              0.2222222222222222,
              "#7201a8"
             ],
             [
              0.3333333333333333,
              "#9c179e"
             ],
             [
              0.4444444444444444,
              "#bd3786"
             ],
             [
              0.5555555555555556,
              "#d8576b"
             ],
             [
              0.6666666666666666,
              "#ed7953"
             ],
             [
              0.7777777777777778,
              "#fb9f3a"
             ],
             [
              0.8888888888888888,
              "#fdca26"
             ],
             [
              1,
              "#f0f921"
             ]
            ],
            "type": "histogram2dcontour"
           }
          ],
          "mesh3d": [
           {
            "colorbar": {
             "outlinewidth": 0,
             "ticks": ""
            },
            "type": "mesh3d"
           }
          ],
          "parcoords": [
           {
            "line": {
             "colorbar": {
              "outlinewidth": 0,
              "ticks": ""
             }
            },
            "type": "parcoords"
           }
          ],
          "pie": [
           {
            "automargin": true,
            "type": "pie"
           }
          ],
          "scatter": [
           {
            "fillpattern": {
             "fillmode": "overlay",
             "size": 10,
             "solidity": 0.2
            },
            "type": "scatter"
           }
          ],
          "scatter3d": [
           {
            "line": {
             "colorbar": {
              "outlinewidth": 0,
              "ticks": ""
             }
            },
            "marker": {
             "colorbar": {
              "outlinewidth": 0,
              "ticks": ""
             }
            },
            "type": "scatter3d"
           }
          ],
          "scattercarpet": [
           {
            "marker": {
             "colorbar": {
              "outlinewidth": 0,
              "ticks": ""
             }
            },
            "type": "scattercarpet"
           }
          ],
          "scattergeo": [
           {
            "marker": {
             "colorbar": {
              "outlinewidth": 0,
              "ticks": ""
             }
            },
            "type": "scattergeo"
           }
          ],
          "scattergl": [
           {
            "marker": {
             "colorbar": {
              "outlinewidth": 0,
              "ticks": ""
             }
            },
            "type": "scattergl"
           }
          ],
          "scattermapbox": [
           {
            "marker": {
             "colorbar": {
              "outlinewidth": 0,
              "ticks": ""
             }
            },
            "type": "scattermapbox"
           }
          ],
          "scatterpolar": [
           {
            "marker": {
             "colorbar": {
              "outlinewidth": 0,
              "ticks": ""
             }
            },
            "type": "scatterpolar"
           }
          ],
          "scatterpolargl": [
           {
            "marker": {
             "colorbar": {
              "outlinewidth": 0,
              "ticks": ""
             }
            },
            "type": "scatterpolargl"
           }
          ],
          "scatterternary": [
           {
            "marker": {
             "colorbar": {
              "outlinewidth": 0,
              "ticks": ""
             }
            },
            "type": "scatterternary"
           }
          ],
          "surface": [
           {
            "colorbar": {
             "outlinewidth": 0,
             "ticks": ""
            },
            "colorscale": [
             [
              0,
              "#0d0887"
             ],
             [
              0.1111111111111111,
              "#46039f"
             ],
             [
              0.2222222222222222,
              "#7201a8"
             ],
             [
              0.3333333333333333,
              "#9c179e"
             ],
             [
              0.4444444444444444,
              "#bd3786"
             ],
             [
              0.5555555555555556,
              "#d8576b"
             ],
             [
              0.6666666666666666,
              "#ed7953"
             ],
             [
              0.7777777777777778,
              "#fb9f3a"
             ],
             [
              0.8888888888888888,
              "#fdca26"
             ],
             [
              1,
              "#f0f921"
             ]
            ],
            "type": "surface"
           }
          ],
          "table": [
           {
            "cells": {
             "fill": {
              "color": "#EBF0F8"
             },
             "line": {
              "color": "white"
             }
            },
            "header": {
             "fill": {
              "color": "#C8D4E3"
             },
             "line": {
              "color": "white"
             }
            },
            "type": "table"
           }
          ]
         },
         "layout": {
          "annotationdefaults": {
           "arrowcolor": "#2a3f5f",
           "arrowhead": 0,
           "arrowwidth": 1
          },
          "autotypenumbers": "strict",
          "coloraxis": {
           "colorbar": {
            "outlinewidth": 0,
            "ticks": ""
           }
          },
          "colorscale": {
           "diverging": [
            [
             0,
             "#8e0152"
            ],
            [
             0.1,
             "#c51b7d"
            ],
            [
             0.2,
             "#de77ae"
            ],
            [
             0.3,
             "#f1b6da"
            ],
            [
             0.4,
             "#fde0ef"
            ],
            [
             0.5,
             "#f7f7f7"
            ],
            [
             0.6,
             "#e6f5d0"
            ],
            [
             0.7,
             "#b8e186"
            ],
            [
             0.8,
             "#7fbc41"
            ],
            [
             0.9,
             "#4d9221"
            ],
            [
             1,
             "#276419"
            ]
           ],
           "sequential": [
            [
             0,
             "#0d0887"
            ],
            [
             0.1111111111111111,
             "#46039f"
            ],
            [
             0.2222222222222222,
             "#7201a8"
            ],
            [
             0.3333333333333333,
             "#9c179e"
            ],
            [
             0.4444444444444444,
             "#bd3786"
            ],
            [
             0.5555555555555556,
             "#d8576b"
            ],
            [
             0.6666666666666666,
             "#ed7953"
            ],
            [
             0.7777777777777778,
             "#fb9f3a"
            ],
            [
             0.8888888888888888,
             "#fdca26"
            ],
            [
             1,
             "#f0f921"
            ]
           ],
           "sequentialminus": [
            [
             0,
             "#0d0887"
            ],
            [
             0.1111111111111111,
             "#46039f"
            ],
            [
             0.2222222222222222,
             "#7201a8"
            ],
            [
             0.3333333333333333,
             "#9c179e"
            ],
            [
             0.4444444444444444,
             "#bd3786"
            ],
            [
             0.5555555555555556,
             "#d8576b"
            ],
            [
             0.6666666666666666,
             "#ed7953"
            ],
            [
             0.7777777777777778,
             "#fb9f3a"
            ],
            [
             0.8888888888888888,
             "#fdca26"
            ],
            [
             1,
             "#f0f921"
            ]
           ]
          },
          "colorway": [
           "#636efa",
           "#EF553B",
           "#00cc96",
           "#ab63fa",
           "#FFA15A",
           "#19d3f3",
           "#FF6692",
           "#B6E880",
           "#FF97FF",
           "#FECB52"
          ],
          "font": {
           "color": "#2a3f5f"
          },
          "geo": {
           "bgcolor": "white",
           "lakecolor": "white",
           "landcolor": "#E5ECF6",
           "showlakes": true,
           "showland": true,
           "subunitcolor": "white"
          },
          "hoverlabel": {
           "align": "left"
          },
          "hovermode": "closest",
          "mapbox": {
           "style": "light"
          },
          "paper_bgcolor": "white",
          "plot_bgcolor": "#E5ECF6",
          "polar": {
           "angularaxis": {
            "gridcolor": "white",
            "linecolor": "white",
            "ticks": ""
           },
           "bgcolor": "#E5ECF6",
           "radialaxis": {
            "gridcolor": "white",
            "linecolor": "white",
            "ticks": ""
           }
          },
          "scene": {
           "xaxis": {
            "backgroundcolor": "#E5ECF6",
            "gridcolor": "white",
            "gridwidth": 2,
            "linecolor": "white",
            "showbackground": true,
            "ticks": "",
            "zerolinecolor": "white"
           },
           "yaxis": {
            "backgroundcolor": "#E5ECF6",
            "gridcolor": "white",
            "gridwidth": 2,
            "linecolor": "white",
            "showbackground": true,
            "ticks": "",
            "zerolinecolor": "white"
           },
           "zaxis": {
            "backgroundcolor": "#E5ECF6",
            "gridcolor": "white",
            "gridwidth": 2,
            "linecolor": "white",
            "showbackground": true,
            "ticks": "",
            "zerolinecolor": "white"
           }
          },
          "shapedefaults": {
           "line": {
            "color": "#2a3f5f"
           }
          },
          "ternary": {
           "aaxis": {
            "gridcolor": "white",
            "linecolor": "white",
            "ticks": ""
           },
           "baxis": {
            "gridcolor": "white",
            "linecolor": "white",
            "ticks": ""
           },
           "bgcolor": "#E5ECF6",
           "caxis": {
            "gridcolor": "white",
            "linecolor": "white",
            "ticks": ""
           }
          },
          "title": {
           "x": 0.05
          },
          "xaxis": {
           "automargin": true,
           "gridcolor": "white",
           "linecolor": "white",
           "ticks": "",
           "title": {
            "standoff": 15
           },
           "zerolinecolor": "white",
           "zerolinewidth": 2
          },
          "yaxis": {
           "automargin": true,
           "gridcolor": "white",
           "linecolor": "white",
           "ticks": "",
           "title": {
            "standoff": 15
           },
           "zerolinecolor": "white",
           "zerolinewidth": 2
          }
         }
        },
        "title": {
         "text": "Network Graph with Pentagram"
        },
        "xaxis": {
         "showgrid": false,
         "showticklabels": false,
         "zeroline": false
        },
        "yaxis": {
         "showgrid": false,
         "showticklabels": false,
         "zeroline": false
        }
       }
      }
     },
     "metadata": {},
     "output_type": "display_data"
    }
   ],
   "source": [
    "# Create the final figure\n",
    "fig = go.Figure(data=[edge_trace, node_trace])\n",
    "fig.update_layout(\n",
    "    title=\"Network Graph with Pentagram\",\n",
    "    showlegend=False,\n",
    "    hovermode=\"closest\",\n",
    "    margin=dict(b=10, l=10, r=10, t=40),\n",
    "    xaxis=dict(showgrid=False, zeroline=False, showticklabels=False),\n",
    "    yaxis=dict(showgrid=False, zeroline=False, showticklabels=False)\n",
    ")\n",
    "\n",
    "# Show the figure\n",
    "fig.show()"
   ]
  }
 ],
 "metadata": {
  "kernelspec": {
   "display_name": "thesis_env",
   "language": "python",
   "name": "thesis_env"
  },
  "language_info": {
   "codemirror_mode": {
    "name": "ipython",
    "version": 3
   },
   "file_extension": ".py",
   "mimetype": "text/x-python",
   "name": "python",
   "nbconvert_exporter": "python",
   "pygments_lexer": "ipython3",
   "version": "3.12.2"
  }
 },
 "nbformat": 4,
 "nbformat_minor": 2
}
