{
 "cells": [
  {
   "cell_type": "markdown",
   "metadata": {},
   "source": [
    "$\\textbf{PROGRAMMING ASSIGNMENT}$\n",
    "---\n",
    "This assignment is a test of your algorithmic thinking. You can use any A.I. tools ot assist you in this coding assignment.\n",
    "\n",
    "Instructions:\n",
    "\n",
    "- This is done by pair, preferably your thesis partner.\n",
    "- Each person should create a Github Repo titled 'Assignment_1_Data_Analytics'.\n",
    "- Read the journal provided.\n",
    "- Develop a Python implementation of the procedures in the journal.\n",
    "- Deadline is before premidterm week."
   ]
  },
  {
   "cell_type": "code",
   "execution_count": 3,
   "metadata": {},
   "outputs": [
    {
     "name": "stdout",
     "output_type": "stream",
     "text": [
      "Hello world\n"
     ]
    }
   ],
   "source": [
    "print(\"Hello world\")"
   ]
  }
 ],
 "metadata": {
  "kernelspec": {
   "display_name": "cs-3202",
   "language": "python",
   "name": "python3"
  },
  "language_info": {
   "codemirror_mode": {
    "name": "ipython",
    "version": 3
   },
   "file_extension": ".py",
   "mimetype": "text/x-python",
   "name": "python",
   "nbconvert_exporter": "python",
   "pygments_lexer": "ipython3",
   "version": "3.12.8"
  }
 },
 "nbformat": 4,
 "nbformat_minor": 2
}
